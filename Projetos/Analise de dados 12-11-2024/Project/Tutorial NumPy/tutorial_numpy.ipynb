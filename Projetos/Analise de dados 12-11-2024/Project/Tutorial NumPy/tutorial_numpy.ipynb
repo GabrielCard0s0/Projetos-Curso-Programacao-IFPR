{
  "cells": [
    {
      "cell_type": "markdown",
      "metadata": {
        "id": "D4gaiTge-oEU"
      },
      "source": [
        "\n",
        "# Fundamentos de Linguagem Python Para Análise de Dados\n",
        "## Pacote NumPy\n",
        "\n",
        "\n",
        "\n",
        "### Exemplo adaptado de Data Science Academy"
      ]
    },
    {
      "cell_type": "code",
      "execution_count": 14,
      "metadata": {
        "colab": {
          "base_uri": "https://localhost:8080/"
        },
        "id": "jD-134pb-oEi",
        "outputId": "d3a2850c-6470-4b67-999d-0b1c1e4d5d89"
      },
      "outputs": [
        {
          "output_type": "stream",
          "name": "stdout",
          "text": [
            "Versão da Linguagem Python Usada Neste Jupyter Notebook: 3.10.12\n"
          ]
        }
      ],
      "source": [
        "# Versão da Linguagem Python\n",
        "from platform import python_version\n",
        "print('Versão da Linguagem Python Usada Neste Jupyter Notebook:', python_version())"
      ]
    },
    {
      "cell_type": "markdown",
      "metadata": {
        "id": "wMDBWioU-oEn"
      },
      "source": [
        "## Documentação\n",
        "\n",
        "https://numpy.org/"
      ]
    },
    {
      "cell_type": "code",
      "execution_count": 15,
      "metadata": {
        "id": "Zvr1TAM0-oEo"
      },
      "outputs": [],
      "source": [
        "# Importando o NumPy\n",
        "import numpy as np"
      ]
    },
    {
      "cell_type": "code",
      "execution_count": 16,
      "metadata": {
        "colab": {
          "base_uri": "https://localhost:8080/",
          "height": 35
        },
        "id": "VJwVLE7e-oEp",
        "outputId": "7f3154a5-e5df-4ddf-b755-d60ac8301320"
      },
      "outputs": [
        {
          "output_type": "execute_result",
          "data": {
            "text/plain": [
              "'1.26.4'"
            ],
            "application/vnd.google.colaboratory.intrinsic+json": {
              "type": "string"
            }
          },
          "metadata": {},
          "execution_count": 16
        }
      ],
      "source": [
        "np.__version__"
      ]
    },
    {
      "cell_type": "markdown",
      "metadata": {
        "id": "eARJaxAm-oEr"
      },
      "source": [
        "### Criando Arrays NumPy"
      ]
    },
    {
      "cell_type": "code",
      "execution_count": 17,
      "metadata": {
        "id": "hdfNoVMz-oEs"
      },
      "outputs": [],
      "source": [
        "# Array criado a partir de uma lista Python\n",
        "arr1 = np.array([10, 21, 32, 43, 48, 15, 76, 57, 89])"
      ]
    },
    {
      "cell_type": "code",
      "execution_count": 18,
      "metadata": {
        "colab": {
          "base_uri": "https://localhost:8080/"
        },
        "id": "kOKGbY_V-oEs",
        "outputId": "53f4037c-f87c-4777-dc8e-ecc8c0a31744"
      },
      "outputs": [
        {
          "output_type": "stream",
          "name": "stdout",
          "text": [
            "[10 21 32 43 48 15 76 57 89]\n"
          ]
        }
      ],
      "source": [
        "print(arr1)"
      ]
    },
    {
      "cell_type": "code",
      "execution_count": 19,
      "metadata": {
        "colab": {
          "base_uri": "https://localhost:8080/"
        },
        "id": "9a2RsvRu-oEt",
        "outputId": "34e94b36-3072-4b4b-db62-918377df67c8"
      },
      "outputs": [
        {
          "output_type": "execute_result",
          "data": {
            "text/plain": [
              "numpy.ndarray"
            ]
          },
          "metadata": {},
          "execution_count": 19
        }
      ],
      "source": [
        "# Um objeto do tipo ndarray é um recipiente multidimensional de itens do mesmo tipo e tamanho\n",
        "type(arr1)"
      ]
    },
    {
      "cell_type": "code",
      "execution_count": 20,
      "metadata": {
        "colab": {
          "base_uri": "https://localhost:8080/"
        },
        "id": "Bp0nAwYa-oEu",
        "outputId": "9548908b-0ea1-4737-fe88-a711bf14b0ef"
      },
      "outputs": [
        {
          "output_type": "execute_result",
          "data": {
            "text/plain": [
              "(9,)"
            ]
          },
          "metadata": {},
          "execution_count": 20
        }
      ],
      "source": [
        "# Verificando o formato do array\n",
        "arr1.shape"
      ]
    },
    {
      "cell_type": "markdown",
      "metadata": {
        "id": "rn88UvUf-oEu"
      },
      "source": [
        "Um array NumPy é uma estrutura de dados multidimensional usada em computação científica e análise de dados. O NumPy fornece um objeto de matriz N-dimensional (ou ndarray), que é uma grade homogênea de elementos, geralmente números, que podem ser indexados por um conjunto de inteiros.\n",
        "\n",
        "Os arrays NumPy são mais eficientes do que as listas Python para armazenar e manipular grandes quantidades de dados, pois são implementados em Linguagem C e fornecem várias otimizações de desempenho. Além disso, o NumPy permite a fácil leitura e escrita de arquivos de dados, integração com outras bibliotecas Python e suporte a operações em paralelo usando várias CPUs ou GPUs."
      ]
    },
    {
      "cell_type": "markdown",
      "metadata": {
        "id": "6Mn7faUf-oEv"
      },
      "source": [
        "### Indexação em Arrays NumPy"
      ]
    },
    {
      "cell_type": "code",
      "execution_count": 21,
      "metadata": {
        "colab": {
          "base_uri": "https://localhost:8080/"
        },
        "id": "jVIW3mIt-oEx",
        "outputId": "1ca45738-2237-41ab-82de-2669e004dc0c"
      },
      "outputs": [
        {
          "output_type": "stream",
          "name": "stdout",
          "text": [
            "[10 21 32 43 48 15 76 57 89]\n"
          ]
        }
      ],
      "source": [
        "print(arr1)"
      ]
    },
    {
      "cell_type": "code",
      "execution_count": 22,
      "metadata": {
        "colab": {
          "base_uri": "https://localhost:8080/"
        },
        "id": "WKj6T17j-oEx",
        "outputId": "650b63c6-af1d-4198-8db6-87831282c123"
      },
      "outputs": [
        {
          "output_type": "execute_result",
          "data": {
            "text/plain": [
              "48"
            ]
          },
          "metadata": {},
          "execution_count": 22
        }
      ],
      "source": [
        "# Imprimindo um elemento específico no array\n",
        "arr1[4]"
      ]
    },
    {
      "cell_type": "code",
      "execution_count": 23,
      "metadata": {
        "colab": {
          "base_uri": "https://localhost:8080/"
        },
        "id": "cASqwZ__-oEy",
        "outputId": "616d3b4e-a738-44c0-e09c-d02d30be66a1"
      },
      "outputs": [
        {
          "output_type": "execute_result",
          "data": {
            "text/plain": [
              "array([21, 32, 43])"
            ]
          },
          "metadata": {},
          "execution_count": 23
        }
      ],
      "source": [
        "# Indexação\n",
        "arr1[1:4]"
      ]
    },
    {
      "cell_type": "code",
      "execution_count": 24,
      "metadata": {
        "colab": {
          "base_uri": "https://localhost:8080/"
        },
        "id": "xUswY4GH-oEy",
        "outputId": "d83118f3-3780-42b8-f752-eefb35536eb5"
      },
      "outputs": [
        {
          "output_type": "execute_result",
          "data": {
            "text/plain": [
              "array([21, 32, 43, 48])"
            ]
          },
          "metadata": {},
          "execution_count": 24
        }
      ],
      "source": [
        "# Indexação\n",
        "arr1[1:4+1]"
      ]
    },
    {
      "cell_type": "code",
      "execution_count": 25,
      "metadata": {
        "id": "Ba4rQPV1-oEz"
      },
      "outputs": [],
      "source": [
        "# Cria uma lista de índices\n",
        "indices = [1, 2, 5, 6]"
      ]
    },
    {
      "cell_type": "code",
      "execution_count": 26,
      "metadata": {
        "colab": {
          "base_uri": "https://localhost:8080/"
        },
        "id": "vZGDHYUv-oEz",
        "outputId": "808f449c-7208-43a8-f745-0ae426995266"
      },
      "outputs": [
        {
          "output_type": "execute_result",
          "data": {
            "text/plain": [
              "array([21, 32, 15, 76])"
            ]
          },
          "metadata": {},
          "execution_count": 26
        }
      ],
      "source": [
        "# Imprimindo os elementos dos índices\n",
        "arr1[indices]"
      ]
    },
    {
      "cell_type": "code",
      "execution_count": 27,
      "metadata": {
        "id": "RZQvvGw8-oE0"
      },
      "outputs": [],
      "source": [
        "# Cria uma máscara booleana para os elementos pares\n",
        "mask = (arr1 % 2 == 0)"
      ]
    },
    {
      "cell_type": "code",
      "execution_count": 28,
      "metadata": {
        "colab": {
          "base_uri": "https://localhost:8080/"
        },
        "id": "lVA9AcWD-oE0",
        "outputId": "74233783-fcb6-4534-aa5b-65896a5d6386"
      },
      "outputs": [
        {
          "output_type": "execute_result",
          "data": {
            "text/plain": [
              "array([ True, False,  True, False,  True, False,  True, False, False])"
            ]
          },
          "metadata": {},
          "execution_count": 28
        }
      ],
      "source": [
        "mask"
      ]
    },
    {
      "cell_type": "code",
      "execution_count": 29,
      "metadata": {
        "colab": {
          "base_uri": "https://localhost:8080/"
        },
        "id": "pyBJUbCy-oE1",
        "outputId": "cf619ddf-100d-4e90-db90-c1e8e459d39c"
      },
      "outputs": [
        {
          "output_type": "execute_result",
          "data": {
            "text/plain": [
              "array([10, 32, 48, 76])"
            ]
          },
          "metadata": {},
          "execution_count": 29
        }
      ],
      "source": [
        "arr1[mask]"
      ]
    },
    {
      "cell_type": "code",
      "execution_count": 30,
      "metadata": {
        "id": "NhLP499N-oE1"
      },
      "outputs": [],
      "source": [
        "# Alterando um elemento do array\n",
        "arr1[0] = 100"
      ]
    },
    {
      "cell_type": "code",
      "execution_count": 31,
      "metadata": {
        "colab": {
          "base_uri": "https://localhost:8080/"
        },
        "id": "oaCGg0yQ-oE1",
        "outputId": "53a40287-9fa0-449a-c19f-e93545fbdf6e"
      },
      "outputs": [
        {
          "output_type": "stream",
          "name": "stdout",
          "text": [
            "[100  21  32  43  48  15  76  57  89]\n"
          ]
        }
      ],
      "source": [
        "print(arr1)"
      ]
    },
    {
      "cell_type": "code",
      "execution_count": 32,
      "metadata": {
        "colab": {
          "base_uri": "https://localhost:8080/"
        },
        "id": "8lPKMEas-oE2",
        "outputId": "3983c8e9-a1ac-4bb5-e8f7-1e9016980e10"
      },
      "outputs": [
        {
          "output_type": "stream",
          "name": "stdout",
          "text": [
            "Operação não permitida!\n"
          ]
        }
      ],
      "source": [
        "# Não é possível incluir elemento de outro tipo\n",
        "try:\n",
        "    arr1[0] = 'Novo elemento'\n",
        "except:\n",
        "    print(\"Operação não permitida!\")"
      ]
    },
    {
      "cell_type": "markdown",
      "metadata": {
        "id": "06EpFw64-oE2"
      },
      "source": [
        "### Funções NumPy"
      ]
    },
    {
      "cell_type": "code",
      "execution_count": 33,
      "metadata": {
        "id": "YoRFvJbs-oE2"
      },
      "outputs": [],
      "source": [
        "# A função array() cria um array NumPy\n",
        "arr2 = np.array([1, 2, 3, 4, 5])"
      ]
    },
    {
      "cell_type": "code",
      "execution_count": 34,
      "metadata": {
        "colab": {
          "base_uri": "https://localhost:8080/"
        },
        "id": "vTkPsbzE-oE3",
        "outputId": "f09718d2-d684-41c8-d3f5-7c23ca07e1cd"
      },
      "outputs": [
        {
          "output_type": "stream",
          "name": "stdout",
          "text": [
            "[1 2 3 4 5]\n"
          ]
        }
      ],
      "source": [
        "print(arr2)"
      ]
    },
    {
      "cell_type": "code",
      "execution_count": 35,
      "metadata": {
        "colab": {
          "base_uri": "https://localhost:8080/"
        },
        "id": "JmUaCFQp-oE3",
        "outputId": "3f7e11ce-ec45-48af-e273-cead65d248a0"
      },
      "outputs": [
        {
          "output_type": "execute_result",
          "data": {
            "text/plain": [
              "numpy.ndarray"
            ]
          },
          "metadata": {},
          "execution_count": 35
        }
      ],
      "source": [
        "# Verificando o tipo do objeto\n",
        "type(arr2)"
      ]
    },
    {
      "cell_type": "code",
      "execution_count": 36,
      "metadata": {
        "colab": {
          "base_uri": "https://localhost:8080/"
        },
        "id": "DXiFtwet-oE3",
        "outputId": "bbe2ddde-fe52-482e-d2dd-9191f5a9e72a"
      },
      "outputs": [
        {
          "output_type": "execute_result",
          "data": {
            "text/plain": [
              "array([1, 2, 3, 4, 5])"
            ]
          },
          "metadata": {},
          "execution_count": 36
        }
      ],
      "source": [
        "# Digite . e pressione a tecla Tab no seu teclado para visualizar os métodos disponíveis em objetos NumPy\n",
        "arr2"
      ]
    },
    {
      "cell_type": "code",
      "execution_count": 37,
      "metadata": {
        "colab": {
          "base_uri": "https://localhost:8080/"
        },
        "id": "f0SaSCAw-oE4",
        "outputId": "f82e99d9-6434-4b76-e433-e15b8e6f7e29"
      },
      "outputs": [
        {
          "output_type": "execute_result",
          "data": {
            "text/plain": [
              "array([ 1,  3,  6, 10, 15])"
            ]
          },
          "metadata": {},
          "execution_count": 37
        }
      ],
      "source": [
        "# Usando métodos do array NumPy\n",
        "arr2.sum()"
      ]
    },
    {
      "cell_type": "code",
      "execution_count": 38,
      "metadata": {
        "colab": {
          "base_uri": "https://localhost:8080/"
        },
        "id": "AptmIpIp-oE4",
        "outputId": "d948ba06-4666-4108-dac6-5f7e30907810"
      },
      "outputs": [
        {
          "output_type": "execute_result",
          "data": {
            "text/plain": [
              "array([  1,   2,   6,  24, 120])"
            ]
          },
          "metadata": {},
          "execution_count": 38
        }
      ],
      "source": [
        "arr2.prod()"
      ]
    },
    {
      "cell_type": "code",
      "execution_count": 157,
      "metadata": {
        "id": "F2G0PP0B-oE5"
      },
      "outputs": [],
      "source": [
        "# A função arange cria um array NumPy contendo uma progressão aritmética a partir de um intervalo - start, stop, step\n",
        "arr3 = np.arange(0, 50, 5)"
      ]
    },
    {
      "cell_type": "code",
      "execution_count": 160,
      "metadata": {
        "colab": {
          "base_uri": "https://localhost:8080/"
        },
        "id": "AeyOkZkK-oE5",
        "outputId": "410249a7-a4ae-4b1a-b882-36f2fbf5509e"
      },
      "outputs": [
        {
          "output_type": "stream",
          "name": "stdout",
          "text": [
            "[ 0  5 10 15 20 25 30 35 40 45]\n"
          ]
        }
      ],
      "source": [
        "print(arr3)"
      ]
    },
    {
      "cell_type": "code",
      "execution_count": 42,
      "metadata": {
        "colab": {
          "base_uri": "https://localhost:8080/"
        },
        "id": "zXdZKiaV-oE5",
        "outputId": "55e5582b-a22c-431f-c190-338eb4faf845"
      },
      "outputs": [
        {
          "output_type": "execute_result",
          "data": {
            "text/plain": [
              "numpy.ndarray"
            ]
          },
          "metadata": {},
          "execution_count": 42
        }
      ],
      "source": [
        "# Verificando o tipo do objeto\n",
        "type(arr3)"
      ]
    },
    {
      "cell_type": "code",
      "execution_count": 161,
      "metadata": {
        "colab": {
          "base_uri": "https://localhost:8080/"
        },
        "id": "VSaDuA8R-oE6",
        "outputId": "9cb37b00-37ea-41fa-feff-ea0b96583078"
      },
      "outputs": [
        {
          "output_type": "execute_result",
          "data": {
            "text/plain": [
              "(10,)"
            ]
          },
          "metadata": {},
          "execution_count": 161
        }
      ],
      "source": [
        "# Formato do array\n",
        "np.shape(arr3)"
      ]
    },
    {
      "cell_type": "code",
      "execution_count": 162,
      "metadata": {
        "colab": {
          "base_uri": "https://localhost:8080/"
        },
        "id": "4s_Pqnek-oFD",
        "outputId": "3dd0b999-c604-459e-84da-2e5cbd246b03"
      },
      "outputs": [
        {
          "output_type": "stream",
          "name": "stdout",
          "text": [
            "int64\n"
          ]
        }
      ],
      "source": [
        "print(arr3.dtype)"
      ]
    },
    {
      "cell_type": "code",
      "execution_count": 45,
      "metadata": {
        "id": "ZX3xY5mc-oFD"
      },
      "outputs": [],
      "source": [
        "# Cria um array preenchido com zeros\n",
        "arr4 = np.zeros(10)"
      ]
    },
    {
      "cell_type": "code",
      "execution_count": 46,
      "metadata": {
        "colab": {
          "base_uri": "https://localhost:8080/"
        },
        "id": "5QPgw9Lo-oFD",
        "outputId": "c2e85022-28ba-468f-abd4-01f4987e14cb"
      },
      "outputs": [
        {
          "output_type": "stream",
          "name": "stdout",
          "text": [
            "[0. 0. 0. 0. 0. 0. 0. 0. 0. 0.]\n"
          ]
        }
      ],
      "source": [
        "print(arr4)"
      ]
    },
    {
      "cell_type": "code",
      "execution_count": 47,
      "metadata": {
        "id": "a8sZBiwr-oFE"
      },
      "outputs": [],
      "source": [
        "# Retorna 1 nas posições em diagonal e 0 no restante\n",
        "arr5 = np.eye(3)"
      ]
    },
    {
      "cell_type": "code",
      "execution_count": 48,
      "metadata": {
        "colab": {
          "base_uri": "https://localhost:8080/"
        },
        "id": "bIEAApco-oFE",
        "outputId": "2ad1621a-23f5-4979-b067-60c33ddcaf11"
      },
      "outputs": [
        {
          "output_type": "stream",
          "name": "stdout",
          "text": [
            "[[1. 0. 0.]\n",
            " [0. 1. 0.]\n",
            " [0. 0. 1.]]\n"
          ]
        }
      ],
      "source": [
        "print(arr5)"
      ]
    },
    {
      "cell_type": "code",
      "execution_count": 163,
      "metadata": {
        "id": "QVMeKhqS-oFE"
      },
      "outputs": [],
      "source": [
        "# Os valores passados como parâmetro, formam uma diagonal\n",
        "arr6 = np.diag(np.array([1, 2, 3, 4]))"
      ]
    },
    {
      "cell_type": "code",
      "execution_count": 50,
      "metadata": {
        "colab": {
          "base_uri": "https://localhost:8080/"
        },
        "id": "I6k1RJdg-oFE",
        "outputId": "ce707baf-09a8-4032-ccce-81dd688b34f0"
      },
      "outputs": [
        {
          "output_type": "stream",
          "name": "stdout",
          "text": [
            "[[1 0 0 0]\n",
            " [0 2 0 0]\n",
            " [0 0 3 0]\n",
            " [0 0 0 4]]\n"
          ]
        }
      ],
      "source": [
        "print(arr6)"
      ]
    },
    {
      "cell_type": "code",
      "execution_count": 164,
      "metadata": {
        "id": "Q50egtBV-oFF"
      },
      "outputs": [],
      "source": [
        "# Array de valores booleanos\n",
        "arr7 = np.array([True, False, False, True])"
      ]
    },
    {
      "cell_type": "code",
      "execution_count": 52,
      "metadata": {
        "colab": {
          "base_uri": "https://localhost:8080/"
        },
        "id": "Jyp2vFGm-oFF",
        "outputId": "4432982f-6a66-472a-ead3-fb11e8a2f3a6"
      },
      "outputs": [
        {
          "output_type": "stream",
          "name": "stdout",
          "text": [
            "[ True False False  True]\n"
          ]
        }
      ],
      "source": [
        "print(arr7)"
      ]
    },
    {
      "cell_type": "code",
      "execution_count": 165,
      "metadata": {
        "id": "EZI95IyX-oFF"
      },
      "outputs": [],
      "source": [
        "# Array de strings\n",
        "arr8 = np.array(['Linguagem Python', 'Linguagem R', 'Linguagem Julia'])"
      ]
    },
    {
      "cell_type": "code",
      "execution_count": 54,
      "metadata": {
        "colab": {
          "base_uri": "https://localhost:8080/"
        },
        "id": "ddhbIRPm-oFF",
        "outputId": "8fd49b26-1ff1-4f7e-9d88-e608d1751c0f"
      },
      "outputs": [
        {
          "output_type": "stream",
          "name": "stdout",
          "text": [
            "['Linguagem Python' 'Linguagem R' 'Linguagem Julia']\n"
          ]
        }
      ],
      "source": [
        "print(arr8)"
      ]
    },
    {
      "cell_type": "markdown",
      "metadata": {
        "id": "q_oFtAL1-oFG"
      },
      "source": [
        "A função linspace() do NumPy é usada para criar uma sequência de números igualmente espaçados dentro de um intervalo especificado. Essa função é amplamente utilizada em programação científica e matemática para gerar arrays de números para diversos fins, como gráficos, cálculos e simulações.\n",
        "\n",
        "O método linspace (linearly spaced vector) retorna um número de valores igualmente distribuídos no intervalo especificado."
      ]
    },
    {
      "cell_type": "code",
      "execution_count": 166,
      "metadata": {
        "colab": {
          "base_uri": "https://localhost:8080/"
        },
        "id": "DxS61GY5-oFG",
        "outputId": "f118351a-43dd-4adc-a78f-ea165570ed3e"
      },
      "outputs": [
        {
          "output_type": "stream",
          "name": "stdout",
          "text": [
            "[ 0.          0.20408163  0.40816327  0.6122449   0.81632653  1.02040816\n",
            "  1.2244898   1.42857143  1.63265306  1.83673469  2.04081633  2.24489796\n",
            "  2.44897959  2.65306122  2.85714286  3.06122449  3.26530612  3.46938776\n",
            "  3.67346939  3.87755102  4.08163265  4.28571429  4.48979592  4.69387755\n",
            "  4.89795918  5.10204082  5.30612245  5.51020408  5.71428571  5.91836735\n",
            "  6.12244898  6.32653061  6.53061224  6.73469388  6.93877551  7.14285714\n",
            "  7.34693878  7.55102041  7.75510204  7.95918367  8.16326531  8.36734694\n",
            "  8.57142857  8.7755102   8.97959184  9.18367347  9.3877551   9.59183673\n",
            "  9.79591837 10.        ]\n"
          ]
        }
      ],
      "source": [
        "print(np.linspace(0, 10))"
      ]
    },
    {
      "cell_type": "code",
      "execution_count": 56,
      "metadata": {
        "colab": {
          "base_uri": "https://localhost:8080/"
        },
        "id": "Mqh_KehU-oFG",
        "outputId": "45913bf4-f795-4667-df89-55ef0f8487f9"
      },
      "outputs": [
        {
          "output_type": "stream",
          "name": "stdout",
          "text": [
            "[ 0.          0.71428571  1.42857143  2.14285714  2.85714286  3.57142857\n",
            "  4.28571429  5.          5.71428571  6.42857143  7.14285714  7.85714286\n",
            "  8.57142857  9.28571429 10.        ]\n"
          ]
        }
      ],
      "source": [
        "print(np.linspace(0, 10, 15))"
      ]
    },
    {
      "cell_type": "markdown",
      "metadata": {
        "id": "qqRywpHD-oFH"
      },
      "source": [
        "A função logspace() do NumPy é usada para criar uma sequência de números igualmente espaçados em escala logarítmica dentro de um intervalo especificado. Essa função é amplamente utilizada em programação científica e matemática para gerar arrays de números para diversos fins, como gráficos, cálculos e simulações."
      ]
    },
    {
      "cell_type": "code",
      "execution_count": 57,
      "metadata": {
        "colab": {
          "base_uri": "https://localhost:8080/"
        },
        "id": "FvLMHFlR-oFH",
        "outputId": "3a293d17-dc08-47c5-da6d-8eccbc02fa13"
      },
      "outputs": [
        {
          "output_type": "stream",
          "name": "stdout",
          "text": [
            "[1.00000000e+00 3.59381366e+00 1.29154967e+01 4.64158883e+01\n",
            " 1.66810054e+02 5.99484250e+02 2.15443469e+03 7.74263683e+03\n",
            " 2.78255940e+04 1.00000000e+05]\n"
          ]
        }
      ],
      "source": [
        "print(np.logspace(0, 5, 10))"
      ]
    },
    {
      "cell_type": "markdown",
      "metadata": {
        "id": "9D3MuWVI-oFI"
      },
      "source": [
        "### Manipulando Matrizes"
      ]
    },
    {
      "cell_type": "code",
      "execution_count": 58,
      "metadata": {
        "id": "TfZmrVCI-oFI"
      },
      "outputs": [],
      "source": [
        "# Criando uma matriz\n",
        "arr9 = np.array( [ [1,2,3] , [4,5,6] ] )"
      ]
    },
    {
      "cell_type": "code",
      "execution_count": 59,
      "metadata": {
        "colab": {
          "base_uri": "https://localhost:8080/"
        },
        "id": "UYzXcIOR-oFJ",
        "outputId": "7e8e6c92-dccf-4548-c804-ac0228c91459"
      },
      "outputs": [
        {
          "output_type": "execute_result",
          "data": {
            "text/plain": [
              "numpy.ndarray"
            ]
          },
          "metadata": {},
          "execution_count": 59
        }
      ],
      "source": [
        "type(arr9)"
      ]
    },
    {
      "cell_type": "code",
      "execution_count": 60,
      "metadata": {
        "colab": {
          "base_uri": "https://localhost:8080/"
        },
        "id": "cswCH_2s-oFJ",
        "outputId": "757ea951-87a9-4fa8-f42a-6c5100da095a"
      },
      "outputs": [
        {
          "output_type": "stream",
          "name": "stdout",
          "text": [
            "[[1 2 3]\n",
            " [4 5 6]]\n"
          ]
        }
      ],
      "source": [
        "print(arr9)"
      ]
    },
    {
      "cell_type": "code",
      "execution_count": 61,
      "metadata": {
        "colab": {
          "base_uri": "https://localhost:8080/"
        },
        "id": "T2IapSnl-oFK",
        "outputId": "a14d66e2-8e0d-4490-9582-e8b7921abe2c"
      },
      "outputs": [
        {
          "output_type": "stream",
          "name": "stdout",
          "text": [
            "(2, 3)\n"
          ]
        }
      ],
      "source": [
        "print(arr9.shape)"
      ]
    },
    {
      "cell_type": "code",
      "execution_count": 62,
      "metadata": {
        "id": "PXCGnEJU-oFL"
      },
      "outputs": [],
      "source": [
        "# Criando uma matriz 2x3 apenas com números \"1\"\n",
        "arr10 = np.ones((2,3))"
      ]
    },
    {
      "cell_type": "code",
      "execution_count": 63,
      "metadata": {
        "colab": {
          "base_uri": "https://localhost:8080/"
        },
        "id": "RnEjmAmf-oFL",
        "outputId": "86321764-e26d-43c5-fedc-224efaafd533"
      },
      "outputs": [
        {
          "output_type": "stream",
          "name": "stdout",
          "text": [
            "[[1. 1. 1.]\n",
            " [1. 1. 1.]]\n"
          ]
        }
      ],
      "source": [
        "print(arr10)"
      ]
    },
    {
      "cell_type": "code",
      "execution_count": 64,
      "metadata": {
        "id": "MG_a_ymE-oFM"
      },
      "outputs": [],
      "source": [
        "# Lista de listas\n",
        "lista = [[13,81,22], [0, 34, 59], [21, 48, 94]]"
      ]
    },
    {
      "cell_type": "code",
      "execution_count": 65,
      "metadata": {
        "id": "YREX0Y6q-oFM"
      },
      "outputs": [],
      "source": [
        "# A função matrix cria uma matriz a partir de uma lista de listas\n",
        "arr11 = np.matrix(lista)"
      ]
    },
    {
      "cell_type": "code",
      "execution_count": 167,
      "metadata": {
        "colab": {
          "base_uri": "https://localhost:8080/"
        },
        "id": "FymSHQ8S-oFN",
        "outputId": "e60de587-eeb9-4eab-d509-744b2ccc610b"
      },
      "outputs": [
        {
          "output_type": "execute_result",
          "data": {
            "text/plain": [
              "numpy.matrix"
            ]
          },
          "metadata": {},
          "execution_count": 167
        }
      ],
      "source": [
        "type(arr11)"
      ]
    },
    {
      "cell_type": "code",
      "execution_count": 67,
      "metadata": {
        "colab": {
          "base_uri": "https://localhost:8080/"
        },
        "id": "5q5iSK9X-oFP",
        "outputId": "90234fe9-1769-4c7a-df2c-6c9b2185aeab"
      },
      "outputs": [
        {
          "output_type": "stream",
          "name": "stdout",
          "text": [
            "[[13 81 22]\n",
            " [ 0 34 59]\n",
            " [21 48 94]]\n"
          ]
        }
      ],
      "source": [
        "print(arr11)"
      ]
    },
    {
      "cell_type": "code",
      "execution_count": 68,
      "metadata": {
        "colab": {
          "base_uri": "https://localhost:8080/"
        },
        "id": "KyxrpALV-oFP",
        "outputId": "3062ec0c-8077-4efd-f459-4f40c95694ca"
      },
      "outputs": [
        {
          "output_type": "execute_result",
          "data": {
            "text/plain": [
              "(3, 3)"
            ]
          },
          "metadata": {},
          "execution_count": 68
        }
      ],
      "source": [
        "# Formato da matriz\n",
        "np.shape(arr11)"
      ]
    },
    {
      "cell_type": "code",
      "execution_count": 69,
      "metadata": {
        "colab": {
          "base_uri": "https://localhost:8080/"
        },
        "id": "dha0muFn-oFQ",
        "outputId": "a4c1edad-8974-4f83-f0d2-7334e407422c"
      },
      "outputs": [
        {
          "output_type": "execute_result",
          "data": {
            "text/plain": [
              "9"
            ]
          },
          "metadata": {},
          "execution_count": 69
        }
      ],
      "source": [
        "# Tamanho da matriz\n",
        "arr11.size"
      ]
    },
    {
      "cell_type": "code",
      "execution_count": 70,
      "metadata": {
        "colab": {
          "base_uri": "https://localhost:8080/"
        },
        "id": "zva_efxt-oFR",
        "outputId": "84af82a9-6b74-4d6a-97bb-f68a476a3141"
      },
      "outputs": [
        {
          "output_type": "stream",
          "name": "stdout",
          "text": [
            "int64\n"
          ]
        }
      ],
      "source": [
        "print(arr11.dtype)"
      ]
    },
    {
      "cell_type": "code",
      "execution_count": 71,
      "metadata": {
        "colab": {
          "base_uri": "https://localhost:8080/"
        },
        "id": "BdwPHRVo-oFS",
        "outputId": "91ab2dba-6740-43c6-8d73-85621ce770c7"
      },
      "outputs": [
        {
          "output_type": "stream",
          "name": "stdout",
          "text": [
            "[[13 81 22]\n",
            " [ 0 34 59]\n",
            " [21 48 94]]\n"
          ]
        }
      ],
      "source": [
        "print(arr11)"
      ]
    },
    {
      "cell_type": "code",
      "execution_count": 72,
      "metadata": {
        "scrolled": true,
        "colab": {
          "base_uri": "https://localhost:8080/"
        },
        "id": "XWtjIrlu-oFS",
        "outputId": "8f1c4e22-f0ed-40c7-d80f-3df86e06bd74"
      },
      "outputs": [
        {
          "output_type": "execute_result",
          "data": {
            "text/plain": [
              "48"
            ]
          },
          "metadata": {},
          "execution_count": 72
        }
      ],
      "source": [
        "# Indexação da matriz\n",
        "arr11[2,1]"
      ]
    },
    {
      "cell_type": "code",
      "execution_count": 73,
      "metadata": {
        "colab": {
          "base_uri": "https://localhost:8080/"
        },
        "id": "UwBPorpT-oFT",
        "outputId": "d5e188e7-1a34-4134-acdd-bc9740079792"
      },
      "outputs": [
        {
          "output_type": "execute_result",
          "data": {
            "text/plain": [
              "matrix([[22],\n",
              "        [59]])"
            ]
          },
          "metadata": {},
          "execution_count": 73
        }
      ],
      "source": [
        "# Indexação da matriz\n",
        "arr11[0:2,2]"
      ]
    },
    {
      "cell_type": "code",
      "execution_count": 74,
      "metadata": {
        "colab": {
          "base_uri": "https://localhost:8080/"
        },
        "id": "EWP0d_zK-oFT",
        "outputId": "df67147e-9c73-434e-886b-eea04fa79708"
      },
      "outputs": [
        {
          "output_type": "execute_result",
          "data": {
            "text/plain": [
              "matrix([[ 0, 34, 59]])"
            ]
          },
          "metadata": {},
          "execution_count": 74
        }
      ],
      "source": [
        "# Indexação da matriz\n",
        "arr11[1,]"
      ]
    },
    {
      "cell_type": "code",
      "execution_count": 75,
      "metadata": {
        "id": "fS2Zp-U1-oFT"
      },
      "outputs": [],
      "source": [
        "# Alterando um elemento da matriz\n",
        "arr11[1,0] = 100"
      ]
    },
    {
      "cell_type": "code",
      "execution_count": 76,
      "metadata": {
        "colab": {
          "base_uri": "https://localhost:8080/"
        },
        "id": "noK1JgUq-oFU",
        "outputId": "ecc2daba-3d2a-4eb2-8af1-2395ce367a7c"
      },
      "outputs": [
        {
          "output_type": "stream",
          "name": "stdout",
          "text": [
            "[[ 13  81  22]\n",
            " [100  34  59]\n",
            " [ 21  48  94]]\n"
          ]
        }
      ],
      "source": [
        "print(arr11)"
      ]
    },
    {
      "cell_type": "code",
      "execution_count": 168,
      "metadata": {
        "id": "SZD8DeD6-oFU"
      },
      "outputs": [],
      "source": [
        "x = np.array([1, 2])  # NumPy decide o tipo dos dado\n",
        "y = np.array([1.0, 2.0])  # NumPy decide o tipo dos dado\n",
        "z = np.array([1, 2], dtype = np.float64)  # Forçamos um tipo de dado em particular"
      ]
    },
    {
      "cell_type": "code",
      "execution_count": 78,
      "metadata": {
        "colab": {
          "base_uri": "https://localhost:8080/"
        },
        "id": "ujKkp590-oFV",
        "outputId": "2573a803-b531-4958-c402-c07f7edaa43f"
      },
      "outputs": [
        {
          "output_type": "stream",
          "name": "stdout",
          "text": [
            "int64 float64 float64\n"
          ]
        }
      ],
      "source": [
        "print(x.dtype, y.dtype, z.dtype)"
      ]
    },
    {
      "cell_type": "code",
      "execution_count": 79,
      "metadata": {
        "id": "pArwmE4j-oFV"
      },
      "outputs": [],
      "source": [
        "arr12 = np.array([[24, 76, 92, 14], [47, 35, 89, 2]], dtype = float)"
      ]
    },
    {
      "cell_type": "code",
      "execution_count": 169,
      "metadata": {
        "colab": {
          "base_uri": "https://localhost:8080/"
        },
        "id": "rVQLGhwE-oFV",
        "outputId": "33fe32d5-45ee-4c6a-a0ce-ef72b7a2d731"
      },
      "outputs": [
        {
          "output_type": "stream",
          "name": "stdout",
          "text": [
            "[[24. 76. 92. 14.]\n",
            " [47. 35. 89.  2.]]\n"
          ]
        }
      ],
      "source": [
        "print(arr12)"
      ]
    },
    {
      "cell_type": "markdown",
      "metadata": {
        "id": "3zVF_qba-oFW"
      },
      "source": [
        "O itemsize de um array numpy é um atributo que retorna o tamanho em bytes de cada elemento do array. Em outras palavras, o itemsize representa o número de bytes necessários para armazenar cada valor do array numpy."
      ]
    },
    {
      "cell_type": "code",
      "execution_count": 170,
      "metadata": {
        "colab": {
          "base_uri": "https://localhost:8080/"
        },
        "id": "Ol08jol5-oFW",
        "outputId": "be95c6a1-971e-42a3-a6ed-0c9631305aee"
      },
      "outputs": [
        {
          "output_type": "execute_result",
          "data": {
            "text/plain": [
              "8"
            ]
          },
          "metadata": {},
          "execution_count": 170
        }
      ],
      "source": [
        "arr12.itemsize"
      ]
    },
    {
      "cell_type": "code",
      "execution_count": 82,
      "metadata": {
        "colab": {
          "base_uri": "https://localhost:8080/"
        },
        "id": "gfknPkCd-oFX",
        "outputId": "c4f73081-5ce2-41d8-ae7b-35c851dec053"
      },
      "outputs": [
        {
          "output_type": "execute_result",
          "data": {
            "text/plain": [
              "64"
            ]
          },
          "metadata": {},
          "execution_count": 82
        }
      ],
      "source": [
        "arr12.nbytes"
      ]
    },
    {
      "cell_type": "code",
      "execution_count": 83,
      "metadata": {
        "colab": {
          "base_uri": "https://localhost:8080/"
        },
        "id": "dIpU8OAt-oFY",
        "outputId": "8d050df1-6729-47ad-d828-5c0d2a4317b3"
      },
      "outputs": [
        {
          "output_type": "execute_result",
          "data": {
            "text/plain": [
              "2"
            ]
          },
          "metadata": {},
          "execution_count": 83
        }
      ],
      "source": [
        "arr12.ndim"
      ]
    },
    {
      "cell_type": "markdown",
      "metadata": {
        "id": "3BC3Qvff-oFY"
      },
      "source": [
        "### Manipulando Objetos de 3 e 4 Dimensões com NumPy"
      ]
    },
    {
      "cell_type": "code",
      "execution_count": 171,
      "metadata": {
        "id": "qdSGYg1t-oFZ"
      },
      "outputs": [],
      "source": [
        "# Cria um array numpy de 3 dimensões\n",
        "arr_3d = np.array([\n",
        "    [\n",
        "        [1, 2, 3, 4],\n",
        "        [5, 6, 7, 8],\n",
        "        [9, 10, 11, 12]\n",
        "    ],\n",
        "    [\n",
        "        [13, 14, 15, 16],\n",
        "        [17, 18, 19, 20],\n",
        "        [21, 22, 23, 24]\n",
        "    ]\n",
        "])"
      ]
    },
    {
      "cell_type": "code",
      "execution_count": 85,
      "metadata": {
        "colab": {
          "base_uri": "https://localhost:8080/"
        },
        "id": "V_sMRkSr-oFZ",
        "outputId": "29215f33-cfac-43ff-8da8-2478fdaf9671"
      },
      "outputs": [
        {
          "output_type": "stream",
          "name": "stdout",
          "text": [
            "[[[ 1  2  3  4]\n",
            "  [ 5  6  7  8]\n",
            "  [ 9 10 11 12]]\n",
            "\n",
            " [[13 14 15 16]\n",
            "  [17 18 19 20]\n",
            "  [21 22 23 24]]]\n"
          ]
        }
      ],
      "source": [
        "print(arr_3d)"
      ]
    },
    {
      "cell_type": "code",
      "execution_count": 86,
      "metadata": {
        "colab": {
          "base_uri": "https://localhost:8080/"
        },
        "id": "cHSCVctI-oFa",
        "outputId": "96d82aa3-9e29-4d2b-b1b7-ca22eadc689d"
      },
      "outputs": [
        {
          "output_type": "execute_result",
          "data": {
            "text/plain": [
              "3"
            ]
          },
          "metadata": {},
          "execution_count": 86
        }
      ],
      "source": [
        "arr_3d.ndim"
      ]
    },
    {
      "cell_type": "code",
      "execution_count": 87,
      "metadata": {
        "colab": {
          "base_uri": "https://localhost:8080/"
        },
        "id": "F2pZzG3L-oFb",
        "outputId": "03fb038c-b0f0-40ad-fbf7-8ead68429120"
      },
      "outputs": [
        {
          "output_type": "execute_result",
          "data": {
            "text/plain": [
              "(2, 3, 4)"
            ]
          },
          "metadata": {},
          "execution_count": 87
        }
      ],
      "source": [
        "arr_3d.shape"
      ]
    },
    {
      "cell_type": "code",
      "execution_count": 88,
      "metadata": {
        "colab": {
          "base_uri": "https://localhost:8080/"
        },
        "id": "Mxp1UKWn-oFb",
        "outputId": "dd4a2f69-a227-43ee-bc5e-e69b054a82f5"
      },
      "outputs": [
        {
          "output_type": "execute_result",
          "data": {
            "text/plain": [
              "10"
            ]
          },
          "metadata": {},
          "execution_count": 88
        }
      ],
      "source": [
        "arr_3d[0, 2, 1]"
      ]
    },
    {
      "cell_type": "code",
      "execution_count": 89,
      "metadata": {
        "id": "oZlETM8F-oFb"
      },
      "outputs": [],
      "source": [
        "# Cria um array numpy de 4 dimensões\n",
        "arr_4d = np.array([\n",
        "    [\n",
        "        [\n",
        "            [1, 2, 3, 4, 5],\n",
        "            [6, 7, 8, 9, 10],\n",
        "            [11, 12, 13, 14, 15],\n",
        "            [16, 17, 18, 19, 20]\n",
        "        ],\n",
        "        [\n",
        "            [21, 22, 23, 24, 25],\n",
        "            [26, 27, 28, 29, 30],\n",
        "            [31, 32, 33, 34, 35],\n",
        "            [36, 37, 38, 39, 40]\n",
        "        ],\n",
        "        [\n",
        "            [41, 42, 43, 44, 45],\n",
        "            [46, 47, 48, 49, 50],\n",
        "            [51, 52, 53, 54, 55],\n",
        "            [56, 57, 58, 59, 60]\n",
        "        ]\n",
        "    ],\n",
        "    [\n",
        "        [\n",
        "            [61, 62, 63, 64, 65],\n",
        "            [66, 67, 68, 69, 70],\n",
        "            [71, 72, 73, 74, 75],\n",
        "            [76, 77, 78, 79, 80]\n",
        "        ],\n",
        "        [\n",
        "            [81, 82, 83, 84, 85],\n",
        "            [86, 87, 88, 89, 90],\n",
        "            [91, 92, 93, 94, 95],\n",
        "            [96, 97, 98, 99, 100]\n",
        "        ],\n",
        "        [\n",
        "            [101, 102, 103, 104, 105],\n",
        "            [106, 107, 108, 109, 110],\n",
        "            [111, 112, 113, 114, 115],\n",
        "            [116, 117, 118, 119, 120]\n",
        "        ]\n",
        "    ]\n",
        "])"
      ]
    },
    {
      "cell_type": "code",
      "execution_count": 90,
      "metadata": {
        "colab": {
          "base_uri": "https://localhost:8080/"
        },
        "id": "nW7t9fKR-oFe",
        "outputId": "2513497d-55fd-499d-a4f6-d98775cd2302"
      },
      "outputs": [
        {
          "output_type": "stream",
          "name": "stdout",
          "text": [
            "[[[[  1   2   3   4   5]\n",
            "   [  6   7   8   9  10]\n",
            "   [ 11  12  13  14  15]\n",
            "   [ 16  17  18  19  20]]\n",
            "\n",
            "  [[ 21  22  23  24  25]\n",
            "   [ 26  27  28  29  30]\n",
            "   [ 31  32  33  34  35]\n",
            "   [ 36  37  38  39  40]]\n",
            "\n",
            "  [[ 41  42  43  44  45]\n",
            "   [ 46  47  48  49  50]\n",
            "   [ 51  52  53  54  55]\n",
            "   [ 56  57  58  59  60]]]\n",
            "\n",
            "\n",
            " [[[ 61  62  63  64  65]\n",
            "   [ 66  67  68  69  70]\n",
            "   [ 71  72  73  74  75]\n",
            "   [ 76  77  78  79  80]]\n",
            "\n",
            "  [[ 81  82  83  84  85]\n",
            "   [ 86  87  88  89  90]\n",
            "   [ 91  92  93  94  95]\n",
            "   [ 96  97  98  99 100]]\n",
            "\n",
            "  [[101 102 103 104 105]\n",
            "   [106 107 108 109 110]\n",
            "   [111 112 113 114 115]\n",
            "   [116 117 118 119 120]]]]\n"
          ]
        }
      ],
      "source": [
        "print(arr_4d)"
      ]
    },
    {
      "cell_type": "code",
      "execution_count": 91,
      "metadata": {
        "colab": {
          "base_uri": "https://localhost:8080/"
        },
        "id": "GS3obj68-oFe",
        "outputId": "6081ed60-f15a-4eea-80fd-108ddb589851"
      },
      "outputs": [
        {
          "output_type": "execute_result",
          "data": {
            "text/plain": [
              "4"
            ]
          },
          "metadata": {},
          "execution_count": 91
        }
      ],
      "source": [
        "arr_4d.ndim"
      ]
    },
    {
      "cell_type": "code",
      "execution_count": 92,
      "metadata": {
        "colab": {
          "base_uri": "https://localhost:8080/"
        },
        "id": "r97010nb-oFf",
        "outputId": "763532f1-46c6-4737-b0bc-b4630ccb868f"
      },
      "outputs": [
        {
          "output_type": "execute_result",
          "data": {
            "text/plain": [
              "(2, 3, 4, 5)"
            ]
          },
          "metadata": {},
          "execution_count": 92
        }
      ],
      "source": [
        "arr_4d.shape"
      ]
    },
    {
      "cell_type": "code",
      "execution_count": 93,
      "metadata": {
        "colab": {
          "base_uri": "https://localhost:8080/"
        },
        "id": "m15szWsm-oFf",
        "outputId": "0a16fd5e-ba58-4957-f1e8-b4c59c27c08f"
      },
      "outputs": [
        {
          "output_type": "execute_result",
          "data": {
            "text/plain": [
              "array([46, 47, 48, 49, 50])"
            ]
          },
          "metadata": {},
          "execution_count": 93
        }
      ],
      "source": [
        "arr_4d[0, 2, 1]"
      ]
    },
    {
      "cell_type": "code",
      "execution_count": 94,
      "metadata": {
        "colab": {
          "base_uri": "https://localhost:8080/"
        },
        "id": "N0pYUaAh-oFf",
        "outputId": "18b8d551-7016-4037-d9e3-c0ea7cbbe3b6"
      },
      "outputs": [
        {
          "output_type": "execute_result",
          "data": {
            "text/plain": [
              "50"
            ]
          },
          "metadata": {},
          "execution_count": 94
        }
      ],
      "source": [
        "arr_4d[0, 2, 1, 4]"
      ]
    },
    {
      "cell_type": "markdown",
      "metadata": {
        "id": "pfJC_yzg-oFg"
      },
      "source": [
        "### Manipulando Arquivos com NumPy"
      ]
    },
    {
      "cell_type": "code",
      "execution_count": 95,
      "metadata": {
        "id": "-P86gqZz-oFg"
      },
      "outputs": [],
      "source": [
        "import os\n",
        "filename = os.path.join('iris.csv')"
      ]
    },
    {
      "cell_type": "code",
      "execution_count": 97,
      "metadata": {
        "id": "LrolWu5Q-oFg"
      },
      "outputs": [],
      "source": [
        "# Carregando um dataset para dentro de um array\n",
        "arr13 = np.loadtxt(filename, delimiter = ',', usecols = (0,1,2,3), skiprows = 1)"
      ]
    },
    {
      "cell_type": "code",
      "execution_count": 98,
      "metadata": {
        "colab": {
          "base_uri": "https://localhost:8080/"
        },
        "id": "3IwLPetE-oFh",
        "outputId": "bbebc45c-8c7d-4bbd-db0d-c09a79a775da"
      },
      "outputs": [
        {
          "output_type": "stream",
          "name": "stdout",
          "text": [
            "[[5.1 3.5 1.4 0.2]\n",
            " [4.9 3.  1.4 0.2]\n",
            " [4.7 3.2 1.3 0.2]\n",
            " [4.6 3.1 1.5 0.2]\n",
            " [5.  3.6 1.4 0.2]\n",
            " [5.4 3.9 1.7 0.4]\n",
            " [4.6 3.4 1.4 0.3]\n",
            " [5.  3.4 1.5 0.2]\n",
            " [4.4 2.9 1.4 0.2]\n",
            " [4.9 3.1 1.5 0.1]\n",
            " [5.4 3.7 1.5 0.2]\n",
            " [4.8 3.4 1.6 0.2]\n",
            " [4.8 3.  1.4 0.1]\n",
            " [4.3 3.  1.1 0.1]\n",
            " [5.8 4.  1.2 0.2]\n",
            " [5.7 4.4 1.5 0.4]\n",
            " [5.4 3.9 1.3 0.4]\n",
            " [5.1 3.5 1.4 0.3]\n",
            " [5.7 3.8 1.7 0.3]\n",
            " [5.1 3.8 1.5 0.3]\n",
            " [5.4 3.4 1.7 0.2]\n",
            " [5.1 3.7 1.5 0.4]\n",
            " [4.6 3.6 1.  0.2]\n",
            " [5.1 3.3 1.7 0.5]\n",
            " [4.8 3.4 1.9 0.2]\n",
            " [5.  3.  1.6 0.2]\n",
            " [5.  3.4 1.6 0.4]\n",
            " [5.2 3.5 1.5 0.2]\n",
            " [5.2 3.4 1.4 0.2]\n",
            " [4.7 3.2 1.6 0.2]\n",
            " [4.8 3.1 1.6 0.2]\n",
            " [5.4 3.4 1.5 0.4]\n",
            " [5.2 4.1 1.5 0.1]\n",
            " [5.5 4.2 1.4 0.2]\n",
            " [4.9 3.1 1.5 0.2]\n",
            " [5.  3.2 1.2 0.2]\n",
            " [5.5 3.5 1.3 0.2]\n",
            " [4.9 3.6 1.4 0.1]\n",
            " [4.4 3.  1.3 0.2]\n",
            " [5.1 3.4 1.5 0.2]\n",
            " [5.  3.5 1.3 0.3]\n",
            " [4.5 2.3 1.3 0.3]\n",
            " [4.4 3.2 1.3 0.2]\n",
            " [5.  3.5 1.6 0.6]\n",
            " [5.1 3.8 1.9 0.4]\n",
            " [4.8 3.  1.4 0.3]\n",
            " [5.1 3.8 1.6 0.2]\n",
            " [4.6 3.2 1.4 0.2]\n",
            " [5.3 3.7 1.5 0.2]\n",
            " [5.  3.3 1.4 0.2]\n",
            " [7.  3.2 4.7 1.4]\n",
            " [6.4 3.2 4.5 1.5]\n",
            " [6.9 3.1 4.9 1.5]\n",
            " [5.5 2.3 4.  1.3]\n",
            " [6.5 2.8 4.6 1.5]\n",
            " [5.7 2.8 4.5 1.3]\n",
            " [6.3 3.3 4.7 1.6]\n",
            " [4.9 2.4 3.3 1. ]\n",
            " [6.6 2.9 4.6 1.3]\n",
            " [5.2 2.7 3.9 1.4]\n",
            " [5.  2.  3.5 1. ]\n",
            " [5.9 3.  4.2 1.5]\n",
            " [6.  2.2 4.  1. ]\n",
            " [6.1 2.9 4.7 1.4]\n",
            " [5.6 2.9 3.6 1.3]\n",
            " [6.7 3.1 4.4 1.4]\n",
            " [5.6 3.  4.5 1.5]\n",
            " [5.8 2.7 4.1 1. ]\n",
            " [6.2 2.2 4.5 1.5]\n",
            " [5.6 2.5 3.9 1.1]\n",
            " [5.9 3.2 4.8 1.8]\n",
            " [6.1 2.8 4.  1.3]\n",
            " [6.3 2.5 4.9 1.5]\n",
            " [6.1 2.8 4.7 1.2]\n",
            " [6.4 2.9 4.3 1.3]\n",
            " [6.6 3.  4.4 1.4]\n",
            " [6.8 2.8 4.8 1.4]\n",
            " [6.7 3.  5.  1.7]\n",
            " [6.  2.9 4.5 1.5]\n",
            " [5.7 2.6 3.5 1. ]\n",
            " [5.5 2.4 3.8 1.1]\n",
            " [5.5 2.4 3.7 1. ]\n",
            " [5.8 2.7 3.9 1.2]\n",
            " [6.  2.7 5.1 1.6]\n",
            " [5.4 3.  4.5 1.5]\n",
            " [6.  3.4 4.5 1.6]\n",
            " [6.7 3.1 4.7 1.5]\n",
            " [6.3 2.3 4.4 1.3]\n",
            " [5.6 3.  4.1 1.3]\n",
            " [5.5 2.5 4.  1.3]\n",
            " [5.5 2.6 4.4 1.2]\n",
            " [6.1 3.  4.6 1.4]\n",
            " [5.8 2.6 4.  1.2]\n",
            " [5.  2.3 3.3 1. ]\n",
            " [5.6 2.7 4.2 1.3]\n",
            " [5.7 3.  4.2 1.2]\n",
            " [5.7 2.9 4.2 1.3]\n",
            " [6.2 2.9 4.3 1.3]\n",
            " [5.1 2.5 3.  1.1]\n",
            " [5.7 2.8 4.1 1.3]\n",
            " [6.3 3.3 6.  2.5]\n",
            " [5.8 2.7 5.1 1.9]\n",
            " [7.1 3.  5.9 2.1]\n",
            " [6.3 2.9 5.6 1.8]\n",
            " [6.5 3.  5.8 2.2]\n",
            " [7.6 3.  6.6 2.1]\n",
            " [4.9 2.5 4.5 1.7]\n",
            " [7.3 2.9 6.3 1.8]\n",
            " [6.7 2.5 5.8 1.8]\n",
            " [7.2 3.6 6.1 2.5]\n",
            " [6.5 3.2 5.1 2. ]\n",
            " [6.4 2.7 5.3 1.9]\n",
            " [6.8 3.  5.5 2.1]\n",
            " [5.7 2.5 5.  2. ]\n",
            " [5.8 2.8 5.1 2.4]\n",
            " [6.4 3.2 5.3 2.3]\n",
            " [6.5 3.  5.5 1.8]\n",
            " [7.7 3.8 6.7 2.2]\n",
            " [7.7 2.6 6.9 2.3]\n",
            " [6.  2.2 5.  1.5]\n",
            " [6.9 3.2 5.7 2.3]\n",
            " [5.6 2.8 4.9 2. ]\n",
            " [7.7 2.8 6.7 2. ]\n",
            " [6.3 2.7 4.9 1.8]\n",
            " [6.7 3.3 5.7 2.1]\n",
            " [7.2 3.2 6.  1.8]\n",
            " [6.2 2.8 4.8 1.8]\n",
            " [6.1 3.  4.9 1.8]\n",
            " [6.4 2.8 5.6 2.1]\n",
            " [7.2 3.  5.8 1.6]\n",
            " [7.4 2.8 6.1 1.9]\n",
            " [7.9 3.8 6.4 2. ]\n",
            " [6.4 2.8 5.6 2.2]\n",
            " [6.3 2.8 5.1 1.5]\n",
            " [6.1 2.6 5.6 1.4]\n",
            " [7.7 3.  6.1 2.3]\n",
            " [6.3 3.4 5.6 2.4]\n",
            " [6.4 3.1 5.5 1.8]\n",
            " [6.  3.  4.8 1.8]\n",
            " [6.9 3.1 5.4 2.1]\n",
            " [6.7 3.1 5.6 2.4]\n",
            " [6.9 3.1 5.1 2.3]\n",
            " [5.8 2.7 5.1 1.9]\n",
            " [6.8 3.2 5.9 2.3]\n",
            " [6.7 3.3 5.7 2.5]\n",
            " [6.7 3.  5.2 2.3]\n",
            " [6.3 2.5 5.  1.9]\n",
            " [6.5 3.  5.2 2. ]\n",
            " [6.2 3.4 5.4 2.3]\n",
            " [5.9 3.  5.1 1.8]]\n"
          ]
        }
      ],
      "source": [
        "print(arr13)"
      ]
    },
    {
      "cell_type": "code",
      "execution_count": 99,
      "metadata": {
        "colab": {
          "base_uri": "https://localhost:8080/"
        },
        "id": "AMizTpWg-oFh",
        "outputId": "88b008e0-d502-4505-8967-11d064beae2c"
      },
      "outputs": [
        {
          "output_type": "execute_result",
          "data": {
            "text/plain": [
              "numpy.ndarray"
            ]
          },
          "metadata": {},
          "execution_count": 99
        }
      ],
      "source": [
        "type(arr13)"
      ]
    },
    {
      "cell_type": "code",
      "execution_count": 100,
      "metadata": {
        "id": "Zd-FQY0g-oFi"
      },
      "outputs": [],
      "source": [
        "# Carregando apenas duas variáveis (colunas) do arquivo\n",
        "var1, var2 = np.loadtxt(filename, delimiter = ',', usecols = (0,1), skiprows = 1, unpack = True)"
      ]
    },
    {
      "cell_type": "code",
      "execution_count": 101,
      "metadata": {
        "colab": {
          "base_uri": "https://localhost:8080/",
          "height": 433
        },
        "id": "dIFZWWWr-oFi",
        "outputId": "77be7d9a-871e-4b4c-f7d0-8265f33e8f2f"
      },
      "outputs": [
        {
          "output_type": "display_data",
          "data": {
            "text/plain": [
              "<Figure size 640x480 with 1 Axes>"
            ],
            "image/png": "[encoded data removed]"
          },
          "metadata": {}
        }
      ],
      "source": [
        "# Gerando um plot a partir de um arquivo usando o NumPy\n",
        "import matplotlib.pyplot as plt\n",
        "plt.show(plt.plot(var1, var2, 'o', markersize = 6, color = 'red'))"
      ]
    },
    {
      "cell_type": "markdown",
      "metadata": {
        "id": "33fpeebP-oFj"
      },
      "source": [
        "### Análise Estatística Básica com NumPy"
      ]
    },
    {
      "cell_type": "code",
      "execution_count": 102,
      "metadata": {
        "id": "QYo1xYID-oFj"
      },
      "outputs": [],
      "source": [
        "# Criando um array\n",
        "arr14 = np.array([15, 23, 63, 94, 75])"
      ]
    },
    {
      "cell_type": "markdown",
      "metadata": {
        "id": "lyBLxaqi-oFj"
      },
      "source": [
        "Em Estatística, a média é uma medida de tendência central que representa o valor central de um conjunto de dados. É calculada somando-se todos os valores do conjunto de dados e dividindo-se pelo número de observações."
      ]
    },
    {
      "cell_type": "code",
      "execution_count": 103,
      "metadata": {
        "colab": {
          "base_uri": "https://localhost:8080/"
        },
        "id": "7CiGp6t7-oFj",
        "outputId": "691bbf28-96f6-4466-867f-b7eb776c9f5b"
      },
      "outputs": [
        {
          "output_type": "execute_result",
          "data": {
            "text/plain": [
              "54.0"
            ]
          },
          "metadata": {},
          "execution_count": 103
        }
      ],
      "source": [
        "# Média\n",
        "np.mean(arr14)"
      ]
    },
    {
      "cell_type": "markdown",
      "metadata": {
        "id": "HSs_wxzM-oFk"
      },
      "source": [
        "O desvio padrão é uma medida estatística de dispersão que indica o quanto os valores de um conjunto de dados se afastam da média. Ele é calculado como a raiz quadrada da variância, que é a média dos quadrados das diferenças entre cada valor e a média.\n",
        "\n",
        "O desvio padrão é uma medida útil porque permite avaliar a variabilidade dos dados em torno da média. Se os valores estiverem próximos da média, o desvio padrão será baixo, indicando que os dados têm pouca variabilidade. Por outro lado, se os valores estiverem muito distantes da média, o desvio padrão será alto, indicando que os dados têm alta variabilidade.\n",
        "\n",
        "O desvio padrão é amplamente utilizado em Análise e Ciência de Dados, para avaliar a consistência dos dados e comparar conjuntos de dados diferentes. É importante notar que o desvio padrão pode ser influenciado por valores extremos (outliers) e pode ser afetado por diferentes distribuições de dados."
      ]
    },
    {
      "cell_type": "code",
      "execution_count": 104,
      "metadata": {
        "colab": {
          "base_uri": "https://localhost:8080/"
        },
        "id": "JpiU6fRp-oFk",
        "outputId": "ca10d9eb-609f-480f-dbd4-0d7c4b764757"
      },
      "outputs": [
        {
          "output_type": "execute_result",
          "data": {
            "text/plain": [
              "30.34468652004828"
            ]
          },
          "metadata": {},
          "execution_count": 104
        }
      ],
      "source": [
        "# Desvio Padrão (Standard Deviation)\n",
        "np.std(arr14)"
      ]
    },
    {
      "cell_type": "markdown",
      "metadata": {
        "id": "JCZxZu95-oFk"
      },
      "source": [
        "A variância é uma medida estatística que quantifica a dispersão dos valores em um conjunto de dados em relação à média. Ela é calculada como a média dos quadrados das diferenças entre cada valor e a média.\n",
        "\n",
        "A fórmula para o cálculo da variância é:\n",
        "\n",
        "var = 1/n * Σ(xi - x̄)^2\n",
        "\n",
        "Onde:\n",
        "\n",
        "- var é a variância\n",
        "- n é o número de observações\n",
        "- Σ é o somatório\n",
        "- xi é o i-ésimo valor no conjunto de dados\n",
        "- x̄ é a média dos valores\n",
        "\n",
        "A variância é uma medida útil para avaliar a variabilidade dos dados em torno da média. Se a variância for baixa, isso indica que os valores estão próximos da média e têm pouca variabilidade. Por outro lado, se a variância for alta, isso indica que os valores estão distantes da média e têm alta variabilidade."
      ]
    },
    {
      "cell_type": "code",
      "execution_count": 105,
      "metadata": {
        "colab": {
          "base_uri": "https://localhost:8080/"
        },
        "id": "1JJho4JG-oFk",
        "outputId": "bf9e3de7-faae-4687-8189-1cda7f960af8"
      },
      "outputs": [
        {
          "output_type": "execute_result",
          "data": {
            "text/plain": [
              "920.8"
            ]
          },
          "metadata": {},
          "execution_count": 105
        }
      ],
      "source": [
        "# Variância\n",
        "np.var(arr14)"
      ]
    },
    {
      "cell_type": "markdown",
      "metadata": {
        "id": "FQRuL3Gf-oFl"
      },
      "source": [
        "Leia o manual em pdf no Capítulo 9 sobre quando usar variância e desvio padrão para análise de dados."
      ]
    },
    {
      "cell_type": "markdown",
      "metadata": {
        "id": "dZmDXahD-oFl"
      },
      "source": [
        "### Operações Matemáticas com Arrays NumPy"
      ]
    },
    {
      "cell_type": "code",
      "execution_count": 172,
      "metadata": {
        "id": "xikALcRG-oFl"
      },
      "outputs": [],
      "source": [
        "arr15 = np.arange(1, 10)"
      ]
    },
    {
      "cell_type": "code",
      "execution_count": 107,
      "metadata": {
        "colab": {
          "base_uri": "https://localhost:8080/"
        },
        "id": "LdoB2Xag-oFl",
        "outputId": "4c3d9561-7ca5-47ce-de62-02d7ea8d3912"
      },
      "outputs": [
        {
          "output_type": "stream",
          "name": "stdout",
          "text": [
            "[1 2 3 4 5 6 7 8 9]\n"
          ]
        }
      ],
      "source": [
        "print(arr15)"
      ]
    },
    {
      "cell_type": "code",
      "execution_count": 173,
      "metadata": {
        "colab": {
          "base_uri": "https://localhost:8080/"
        },
        "id": "d33X8cfk-oFl",
        "outputId": "4cf133e0-4472-4f5a-b0e9-c13e93cdaf37"
      },
      "outputs": [
        {
          "output_type": "execute_result",
          "data": {
            "text/plain": [
              "45"
            ]
          },
          "metadata": {},
          "execution_count": 173
        }
      ],
      "source": [
        "# Soma dos elementos do array\n",
        "np.sum(arr15)"
      ]
    },
    {
      "cell_type": "code",
      "execution_count": 174,
      "metadata": {
        "colab": {
          "base_uri": "https://localhost:8080/"
        },
        "id": "T6LIhLe1-oFm",
        "outputId": "2c602ab3-67c1-419f-c1c0-d465d9b70844"
      },
      "outputs": [
        {
          "output_type": "execute_result",
          "data": {
            "text/plain": [
              "362880"
            ]
          },
          "metadata": {},
          "execution_count": 174
        }
      ],
      "source": [
        "# Retorna o produto dos elementos\n",
        "np.prod(arr15)"
      ]
    },
    {
      "cell_type": "code",
      "execution_count": 175,
      "metadata": {
        "colab": {
          "base_uri": "https://localhost:8080/"
        },
        "id": "fz5Urfl0-oFm",
        "outputId": "4d5f3696-520a-4087-9799-ff70a1c72696"
      },
      "outputs": [
        {
          "output_type": "execute_result",
          "data": {
            "text/plain": [
              "array([ 1,  3,  6, 10, 15, 21, 28, 36, 45])"
            ]
          },
          "metadata": {},
          "execution_count": 175
        }
      ],
      "source": [
        "# Soma acumulada dos elementos\n",
        "np.cumsum(arr15)"
      ]
    },
    {
      "cell_type": "code",
      "execution_count": 176,
      "metadata": {
        "id": "ZWZasvkU-oFm"
      },
      "outputs": [],
      "source": [
        "# Cria 2 arrays\n",
        "arr16 = np.array([3, 2, 1])\n",
        "arr17 = np.array([1, 2, 3])"
      ]
    },
    {
      "cell_type": "code",
      "execution_count": 112,
      "metadata": {
        "id": "JTviKRwZ-oFm"
      },
      "outputs": [],
      "source": [
        "# Soma dos arrays\n",
        "arr18 = np.add(arr16, arr17)"
      ]
    },
    {
      "cell_type": "code",
      "execution_count": 113,
      "metadata": {
        "colab": {
          "base_uri": "https://localhost:8080/"
        },
        "id": "Jcey2X5C-oFn",
        "outputId": "75aaf528-82f6-4376-d363-907ee9e18d34"
      },
      "outputs": [
        {
          "output_type": "stream",
          "name": "stdout",
          "text": [
            "[4 4 4]\n"
          ]
        }
      ],
      "source": [
        "print(arr18)"
      ]
    },
    {
      "cell_type": "markdown",
      "metadata": {
        "id": "I8ZFKE87-oFn"
      },
      "source": [
        "Para multiplicar duas matrizes NumPy, podemos usar a função dot() ou o operador @. Ambos os métodos executam a multiplicação matricial. É importante lembrar que, para que a multiplicação de matrizes possa ser executada, o número de colunas da primeira matriz deve ser igual ao número de linhas da segunda matriz.\n",
        "\n",
        "Há várias formas de multiplicar elementos de matrizes NumPy. A função dot() é um método bastante utilizado."
      ]
    },
    {
      "cell_type": "code",
      "execution_count": 114,
      "metadata": {
        "id": "L7nwE30L-oFo"
      },
      "outputs": [],
      "source": [
        "# Cria duas matrizes\n",
        "arr19 = np.array([[1, 2], [3, 4]])\n",
        "arr20 = np.array([[5, 6], [0, 7]])"
      ]
    },
    {
      "cell_type": "code",
      "execution_count": 115,
      "metadata": {
        "colab": {
          "base_uri": "https://localhost:8080/"
        },
        "id": "heQ2-SdC-oFo",
        "outputId": "79d7318b-5fcd-4e74-f741-621371c4eb64"
      },
      "outputs": [
        {
          "output_type": "execute_result",
          "data": {
            "text/plain": [
              "(2, 2)"
            ]
          },
          "metadata": {},
          "execution_count": 115
        }
      ],
      "source": [
        "arr19.shape"
      ]
    },
    {
      "cell_type": "code",
      "execution_count": 116,
      "metadata": {
        "colab": {
          "base_uri": "https://localhost:8080/"
        },
        "id": "fQjB2041-oFp",
        "outputId": "cc8dd1bc-4911-4cb3-e319-d82bb72d0feb"
      },
      "outputs": [
        {
          "output_type": "execute_result",
          "data": {
            "text/plain": [
              "(2, 2)"
            ]
          },
          "metadata": {},
          "execution_count": 116
        }
      ],
      "source": [
        "arr20.shape"
      ]
    },
    {
      "cell_type": "code",
      "execution_count": 117,
      "metadata": {
        "colab": {
          "base_uri": "https://localhost:8080/"
        },
        "id": "Z43yrguf-oFp",
        "outputId": "e644e666-83dc-4c27-e90c-818d120914e8"
      },
      "outputs": [
        {
          "output_type": "stream",
          "name": "stdout",
          "text": [
            "[[1 2]\n",
            " [3 4]]\n"
          ]
        }
      ],
      "source": [
        "print(arr19)"
      ]
    },
    {
      "cell_type": "code",
      "execution_count": 118,
      "metadata": {
        "colab": {
          "base_uri": "https://localhost:8080/"
        },
        "id": "aM5y8LAN-oFq",
        "outputId": "478a1c3f-ef2f-47a3-b74e-3ee09593beb6"
      },
      "outputs": [
        {
          "output_type": "stream",
          "name": "stdout",
          "text": [
            "[[5 6]\n",
            " [0 7]]\n"
          ]
        }
      ],
      "source": [
        "print(arr20)"
      ]
    },
    {
      "cell_type": "code",
      "execution_count": 119,
      "metadata": {
        "id": "r_2MR8X--oFq"
      },
      "outputs": [],
      "source": [
        "# Multiplicar as duas matrizes\n",
        "arr21 = np.dot(arr19, arr20)"
      ]
    },
    {
      "cell_type": "code",
      "execution_count": 120,
      "metadata": {
        "colab": {
          "base_uri": "https://localhost:8080/"
        },
        "id": "PP9eFSQB-oFq",
        "outputId": "09e9f359-915b-415a-cc47-5b008e333dc7"
      },
      "outputs": [
        {
          "output_type": "stream",
          "name": "stdout",
          "text": [
            "[[ 5 20]\n",
            " [15 46]]\n"
          ]
        }
      ],
      "source": [
        "print(arr21)"
      ]
    },
    {
      "cell_type": "code",
      "execution_count": 121,
      "metadata": {
        "id": "0lx4t7lU-oFr"
      },
      "outputs": [],
      "source": [
        "# Multiplicar as duas matrizes\n",
        "arr21 = arr19 @ arr20"
      ]
    },
    {
      "cell_type": "code",
      "execution_count": 122,
      "metadata": {
        "colab": {
          "base_uri": "https://localhost:8080/"
        },
        "id": "T2TxoXx5-oFr",
        "outputId": "bd1ed018-714e-4750-c56c-69bf5d10199f"
      },
      "outputs": [
        {
          "output_type": "stream",
          "name": "stdout",
          "text": [
            "[[ 5 20]\n",
            " [15 46]]\n"
          ]
        }
      ],
      "source": [
        "print(arr21)"
      ]
    },
    {
      "cell_type": "code",
      "execution_count": 178,
      "metadata": {
        "id": "CTGXoZZJ-oFr"
      },
      "outputs": [],
      "source": [
        "# Multiplicar as duas matrizes\n",
        "arr21 = np.tensordot(arr19, arr20, axes = ((1),(0)))"
      ]
    },
    {
      "cell_type": "code",
      "execution_count": 179,
      "metadata": {
        "colab": {
          "base_uri": "https://localhost:8080/"
        },
        "id": "9BcLYFuA-oFr",
        "outputId": "e2a0d3e4-b75f-4cb4-ada5-b76a6a7f82bc"
      },
      "outputs": [
        {
          "output_type": "stream",
          "name": "stdout",
          "text": [
            "[[ 5 20]\n",
            " [15 46]]\n"
          ]
        }
      ],
      "source": [
        "print(arr21)"
      ]
    },
    {
      "cell_type": "markdown",
      "metadata": {
        "id": "7pOFTeZY-oFs"
      },
      "source": [
        "### Slicing (Fatiamento) de Arrays NumPy"
      ]
    },
    {
      "cell_type": "code",
      "execution_count": 125,
      "metadata": {
        "id": "wiDunCnh-oFs"
      },
      "outputs": [],
      "source": [
        "# Cria um array\n",
        "arr22 = np.diag(np.arange(3))"
      ]
    },
    {
      "cell_type": "code",
      "execution_count": 126,
      "metadata": {
        "colab": {
          "base_uri": "https://localhost:8080/"
        },
        "id": "8g2PAgg7-oFs",
        "outputId": "36d56917-a585-4fb1-e5ba-ea9fa8b0970d"
      },
      "outputs": [
        {
          "output_type": "stream",
          "name": "stdout",
          "text": [
            "[[0 0 0]\n",
            " [0 1 0]\n",
            " [0 0 2]]\n"
          ]
        }
      ],
      "source": [
        "print(arr22)"
      ]
    },
    {
      "cell_type": "code",
      "execution_count": 127,
      "metadata": {
        "colab": {
          "base_uri": "https://localhost:8080/"
        },
        "id": "K9hxf2mt-oFs",
        "outputId": "2f7afb81-23a2-49dc-cede-d969e51dc5b9"
      },
      "outputs": [
        {
          "output_type": "execute_result",
          "data": {
            "text/plain": [
              "1"
            ]
          },
          "metadata": {},
          "execution_count": 127
        }
      ],
      "source": [
        "arr22[1, 1]"
      ]
    },
    {
      "cell_type": "code",
      "execution_count": 128,
      "metadata": {
        "colab": {
          "base_uri": "https://localhost:8080/"
        },
        "id": "AX44wkZ0-oFt",
        "outputId": "dfcc0e16-17c1-4149-ed95-b2d0e88dcf84"
      },
      "outputs": [
        {
          "output_type": "execute_result",
          "data": {
            "text/plain": [
              "array([0, 1, 0])"
            ]
          },
          "metadata": {},
          "execution_count": 128
        }
      ],
      "source": [
        "arr22[1]"
      ]
    },
    {
      "cell_type": "code",
      "execution_count": 129,
      "metadata": {
        "colab": {
          "base_uri": "https://localhost:8080/"
        },
        "id": "mJH5KFwu-oFt",
        "outputId": "54ba98cb-a15b-4b75-a2d5-f81a4fd2f8e1"
      },
      "outputs": [
        {
          "output_type": "execute_result",
          "data": {
            "text/plain": [
              "array([0, 0, 2])"
            ]
          },
          "metadata": {},
          "execution_count": 129
        }
      ],
      "source": [
        "arr22[:,2]"
      ]
    },
    {
      "cell_type": "code",
      "execution_count": 130,
      "metadata": {
        "id": "XPcjwADd-oFu"
      },
      "outputs": [],
      "source": [
        "arr23 = np.arange(10)"
      ]
    },
    {
      "cell_type": "code",
      "execution_count": 131,
      "metadata": {
        "colab": {
          "base_uri": "https://localhost:8080/"
        },
        "id": "1HHM9GtI-oFu",
        "outputId": "24aa8b6f-51ec-42db-8ce9-17bd3c363400"
      },
      "outputs": [
        {
          "output_type": "stream",
          "name": "stdout",
          "text": [
            "[0 1 2 3 4 5 6 7 8 9]\n"
          ]
        }
      ],
      "source": [
        "print(arr23)"
      ]
    },
    {
      "cell_type": "code",
      "execution_count": 132,
      "metadata": {
        "colab": {
          "base_uri": "https://localhost:8080/"
        },
        "id": "UZkdIpSx-oFv",
        "outputId": "026abc7e-4028-439f-f961-82d548c4dabc"
      },
      "outputs": [
        {
          "output_type": "execute_result",
          "data": {
            "text/plain": [
              "array([2, 5, 8])"
            ]
          },
          "metadata": {},
          "execution_count": 132
        }
      ],
      "source": [
        "# [start:end:step]\n",
        "arr23[2:9:3]"
      ]
    },
    {
      "cell_type": "code",
      "execution_count": 133,
      "metadata": {
        "id": "YxxEknSa-oFv"
      },
      "outputs": [],
      "source": [
        "# Cria 2 arrays\n",
        "a = np.array([1, 2, 3, 4])\n",
        "b = np.array([4, 2, 2, 4])"
      ]
    },
    {
      "cell_type": "code",
      "execution_count": 134,
      "metadata": {
        "colab": {
          "base_uri": "https://localhost:8080/"
        },
        "id": "PnXfM_UA-oFw",
        "outputId": "e85f82e6-a36a-45c9-b484-9d8fe16bc539"
      },
      "outputs": [
        {
          "output_type": "execute_result",
          "data": {
            "text/plain": [
              "array([False,  True, False,  True])"
            ]
          },
          "metadata": {},
          "execution_count": 134
        }
      ],
      "source": [
        "# Comparação item a item\n",
        "a == b"
      ]
    },
    {
      "cell_type": "code",
      "execution_count": 135,
      "metadata": {
        "colab": {
          "base_uri": "https://localhost:8080/"
        },
        "id": "erMyxaU2-oFw",
        "outputId": "510874f9-ec9e-4e73-d6c1-321c8961cef1"
      },
      "outputs": [
        {
          "output_type": "execute_result",
          "data": {
            "text/plain": [
              "False"
            ]
          },
          "metadata": {},
          "execution_count": 135
        }
      ],
      "source": [
        "# Comparação global\n",
        "np.array_equal(arr22, arr23)"
      ]
    },
    {
      "cell_type": "code",
      "execution_count": 136,
      "metadata": {
        "colab": {
          "base_uri": "https://localhost:8080/"
        },
        "id": "NvfXh17I-oFw",
        "outputId": "a282ef81-f798-4aad-cc3f-057af179c176"
      },
      "outputs": [
        {
          "output_type": "execute_result",
          "data": {
            "text/plain": [
              "0"
            ]
          },
          "metadata": {},
          "execution_count": 136
        }
      ],
      "source": [
        "arr23.min()"
      ]
    },
    {
      "cell_type": "code",
      "execution_count": 137,
      "metadata": {
        "colab": {
          "base_uri": "https://localhost:8080/"
        },
        "id": "t2JnHzKx-oFw",
        "outputId": "80222316-ad82-4a78-a9ad-6b8ec77e74cd"
      },
      "outputs": [
        {
          "output_type": "execute_result",
          "data": {
            "text/plain": [
              "9"
            ]
          },
          "metadata": {},
          "execution_count": 137
        }
      ],
      "source": [
        "arr23.max()"
      ]
    },
    {
      "cell_type": "code",
      "execution_count": 138,
      "metadata": {
        "colab": {
          "base_uri": "https://localhost:8080/"
        },
        "id": "Zz2ysvEa-oFx",
        "outputId": "4a58ab23-f01a-47d6-e7e6-081f40972043"
      },
      "outputs": [
        {
          "output_type": "execute_result",
          "data": {
            "text/plain": [
              "array([2.5, 3.5, 4.5])"
            ]
          },
          "metadata": {},
          "execution_count": 138
        }
      ],
      "source": [
        "# Somando um valor a cada elemento do array\n",
        "np.array([1, 2, 3]) + 1.5"
      ]
    },
    {
      "cell_type": "code",
      "execution_count": 139,
      "metadata": {
        "id": "xplnhXVe-oF0"
      },
      "outputs": [],
      "source": [
        "# Cria um array\n",
        "arr24 = np.array([1.2, 1.5, 1.6, 2.5, 3.5, 4.5])"
      ]
    },
    {
      "cell_type": "code",
      "execution_count": 140,
      "metadata": {
        "colab": {
          "base_uri": "https://localhost:8080/"
        },
        "id": "mGG29RQM-oF1",
        "outputId": "3edae537-6dc9-400c-fdb2-64a4c21856a3"
      },
      "outputs": [
        {
          "output_type": "stream",
          "name": "stdout",
          "text": [
            "[1.2 1.5 1.6 2.5 3.5 4.5]\n"
          ]
        }
      ],
      "source": [
        "print(arr24)"
      ]
    },
    {
      "cell_type": "code",
      "execution_count": 141,
      "metadata": {
        "id": "jwwuiR7K-oF1"
      },
      "outputs": [],
      "source": [
        "# Usando o método around\n",
        "arr25 = np.around(arr24)"
      ]
    },
    {
      "cell_type": "code",
      "execution_count": 142,
      "metadata": {
        "colab": {
          "base_uri": "https://localhost:8080/"
        },
        "id": "Z0nkj4Ml-oF1",
        "outputId": "9b2deef2-5328-4710-a98c-c35b86bd767e"
      },
      "outputs": [
        {
          "output_type": "stream",
          "name": "stdout",
          "text": [
            "[1. 2. 2. 2. 4. 4.]\n"
          ]
        }
      ],
      "source": [
        "print(arr25)"
      ]
    },
    {
      "cell_type": "code",
      "execution_count": 143,
      "metadata": {
        "id": "gk_2JZS2-oF1"
      },
      "outputs": [],
      "source": [
        "# Criando um array\n",
        "arr26 = np.array([[1, 2, 3, 4], [5, 6, 7, 8]])"
      ]
    },
    {
      "cell_type": "code",
      "execution_count": 144,
      "metadata": {
        "colab": {
          "base_uri": "https://localhost:8080/"
        },
        "id": "0zBuiPV1-oF1",
        "outputId": "ca7d97f8-35e3-412b-f048-592279c5b249"
      },
      "outputs": [
        {
          "output_type": "stream",
          "name": "stdout",
          "text": [
            "[[1 2 3 4]\n",
            " [5 6 7 8]]\n"
          ]
        }
      ],
      "source": [
        "print(arr26)"
      ]
    },
    {
      "cell_type": "markdown",
      "metadata": {
        "id": "4OV-0hM4-oF2"
      },
      "source": [
        "O método flatten() com NumPy é usado para criar uma cópia unidimensional (ou \"achatada\") de um array multidimensional. Isso significa que o método cria um novo array unidimensional, que contém todos os elementos do array multidimensional original, mas que está organizado em uma única linha. A ordem dos elementos no novo array unidimensional segue a ordem dos elementos no array multidimensional original."
      ]
    },
    {
      "cell_type": "code",
      "execution_count": 145,
      "metadata": {
        "id": "-PxEDAg8-oF2"
      },
      "outputs": [],
      "source": [
        "# \"Achatando\" a matriz\n",
        "arr27 = arr26.flatten()"
      ]
    },
    {
      "cell_type": "code",
      "execution_count": 146,
      "metadata": {
        "colab": {
          "base_uri": "https://localhost:8080/"
        },
        "id": "Upx-TmlZ-oF2",
        "outputId": "f75e1bec-db13-424d-b0c9-47b065f73cf1"
      },
      "outputs": [
        {
          "output_type": "stream",
          "name": "stdout",
          "text": [
            "[1 2 3 4 5 6 7 8]\n"
          ]
        }
      ],
      "source": [
        "print(arr27)"
      ]
    },
    {
      "cell_type": "code",
      "execution_count": 147,
      "metadata": {
        "id": "6wD97TQc-oF2"
      },
      "outputs": [],
      "source": [
        "# Criando um array\n",
        "arr28 = np.array([1, 2, 3])"
      ]
    },
    {
      "cell_type": "code",
      "execution_count": 148,
      "metadata": {
        "colab": {
          "base_uri": "https://localhost:8080/"
        },
        "id": "1zicNw1m-oF2",
        "outputId": "38b105fd-aab2-4333-8eee-f0682de5afba"
      },
      "outputs": [
        {
          "output_type": "stream",
          "name": "stdout",
          "text": [
            "[1 2 3]\n"
          ]
        }
      ],
      "source": [
        "print(arr28)"
      ]
    },
    {
      "cell_type": "code",
      "execution_count": 149,
      "metadata": {
        "colab": {
          "base_uri": "https://localhost:8080/"
        },
        "id": "tt2U3Eo5-oF3",
        "outputId": "3767af7e-d942-4488-99c4-6de348202691"
      },
      "outputs": [
        {
          "output_type": "execute_result",
          "data": {
            "text/plain": [
              "array([1, 1, 1, 2, 2, 2, 3, 3, 3])"
            ]
          },
          "metadata": {},
          "execution_count": 149
        }
      ],
      "source": [
        "# Repetindo os elementos de um array\n",
        "np.repeat(arr28, 3)"
      ]
    },
    {
      "cell_type": "code",
      "execution_count": 150,
      "metadata": {
        "colab": {
          "base_uri": "https://localhost:8080/"
        },
        "id": "O0bqXAXk-oF3",
        "outputId": "83341262-e5f0-4769-f0aa-024e80eafc1e"
      },
      "outputs": [
        {
          "output_type": "execute_result",
          "data": {
            "text/plain": [
              "array([1, 2, 3, 1, 2, 3, 1, 2, 3])"
            ]
          },
          "metadata": {},
          "execution_count": 150
        }
      ],
      "source": [
        "# Repetindo os elementos de um array\n",
        "np.tile(arr28, 3)"
      ]
    },
    {
      "cell_type": "code",
      "execution_count": 151,
      "metadata": {
        "id": "0Law0xz9-oF4"
      },
      "outputs": [],
      "source": [
        "# Criando um array\n",
        "arr29 = np.array([5, 6])"
      ]
    },
    {
      "cell_type": "code",
      "execution_count": 152,
      "metadata": {
        "id": "9tfzo8Op-oF4"
      },
      "outputs": [],
      "source": [
        "# Criando cópia do array\n",
        "arr30 = np.copy(arr29)"
      ]
    },
    {
      "cell_type": "code",
      "execution_count": 153,
      "metadata": {
        "colab": {
          "base_uri": "https://localhost:8080/"
        },
        "id": "XfdUOtz1-oF4",
        "outputId": "858478ca-bf38-4ebd-dd94-f6a0777c3aa9"
      },
      "outputs": [
        {
          "output_type": "stream",
          "name": "stdout",
          "text": [
            "[5 6]\n"
          ]
        }
      ],
      "source": [
        "print(arr30)"
      ]
    }
  ],
  "metadata": {
    "kernelspec": {
      "display_name": "Python 3 (ipykernel)",
      "language": "python",
      "name": "python3"
    },
    "language_info": {
      "codemirror_mode": {
        "name": "ipython",
        "version": 3
      },
      "file_extension": ".py",
      "mimetype": "text/x-python",
      "name": "python",
      "nbconvert_exporter": "python",
      "pygments_lexer": "ipython3",
      "version": "3.9.13"
    },
    "colab": {
      "provenance": []
    }
  },
  "nbformat": 4,
  "nbformat_minor": 0
}